{
 "cells": [
  {
   "cell_type": "code",
   "execution_count": 286,
   "outputs": [],
   "source": [
    "import numpy as np\n",
    "import matplotlib.pyplot as plt\n",
    "import pandas as pd"
   ],
   "metadata": {
    "collapsed": false,
    "pycharm": {
     "name": "#%%\n"
    }
   }
  },
  {
   "cell_type": "code",
   "execution_count": 287,
   "outputs": [
    {
     "data": {
      "text/plain": "   time (s)  temperature (C)  Pressure(V)\n0      2.56             5.90         8.37\n1      3.06             6.15         8.37\n2      3.56             6.40         8.37\n3      4.08             6.40         8.38\n4      4.58             6.40         8.38",
      "text/html": "<div>\n<style scoped>\n    .dataframe tbody tr th:only-of-type {\n        vertical-align: middle;\n    }\n\n    .dataframe tbody tr th {\n        vertical-align: top;\n    }\n\n    .dataframe thead th {\n        text-align: right;\n    }\n</style>\n<table border=\"1\" class=\"dataframe\">\n  <thead>\n    <tr style=\"text-align: right;\">\n      <th></th>\n      <th>time (s)</th>\n      <th>temperature (C)</th>\n      <th>Pressure(V)</th>\n    </tr>\n  </thead>\n  <tbody>\n    <tr>\n      <th>0</th>\n      <td>2.56</td>\n      <td>5.90</td>\n      <td>8.37</td>\n    </tr>\n    <tr>\n      <th>1</th>\n      <td>3.06</td>\n      <td>6.15</td>\n      <td>8.37</td>\n    </tr>\n    <tr>\n      <th>2</th>\n      <td>3.56</td>\n      <td>6.40</td>\n      <td>8.37</td>\n    </tr>\n    <tr>\n      <th>3</th>\n      <td>4.08</td>\n      <td>6.40</td>\n      <td>8.38</td>\n    </tr>\n    <tr>\n      <th>4</th>\n      <td>4.58</td>\n      <td>6.40</td>\n      <td>8.38</td>\n    </tr>\n  </tbody>\n</table>\n</div>"
     },
     "execution_count": 287,
     "metadata": {},
     "output_type": "execute_result"
    }
   ],
   "source": [
    "df = pd.read_csv('Pressure.csv')\n",
    "df.head()"
   ],
   "metadata": {
    "collapsed": false,
    "pycharm": {
     "name": "#%%\n"
    }
   }
  },
  {
   "cell_type": "code",
   "execution_count": 288,
   "outputs": [
    {
     "data": {
      "text/plain": "<Figure size 432x288 with 1 Axes>",
      "image/png": "[encoded data removed]"
     },
     "metadata": {
      "needs_background": "light"
     },
     "output_type": "display_data"
    }
   ],
   "source": [
    "#plot all the data\n",
    "var = 450\n",
    "plt.plot(df['temperature (C)'], df['Pressure(V)'])\n",
    "plt.xlabel('Temperature')\n",
    "plt.ylabel('Pressure')\n",
    "plt.title('Pressure vs Temperature')\n",
    "plt.show()"
   ],
   "metadata": {
    "collapsed": false,
    "pycharm": {
     "name": "#%%\n"
    }
   }
  },
  {
   "cell_type": "code",
   "execution_count": 289,
   "outputs": [
    {
     "data": {
      "text/plain": "   time (s)  temperature (C)  Pressure(V)\n0      2.56             5.90         8.37\n1      3.06             6.15         8.37\n2      3.56             6.40         8.37\n3      4.08             6.40         8.38\n4      4.58             6.40         8.38",
      "text/html": "<div>\n<style scoped>\n    .dataframe tbody tr th:only-of-type {\n        vertical-align: middle;\n    }\n\n    .dataframe tbody tr th {\n        vertical-align: top;\n    }\n\n    .dataframe thead th {\n        text-align: right;\n    }\n</style>\n<table border=\"1\" class=\"dataframe\">\n  <thead>\n    <tr style=\"text-align: right;\">\n      <th></th>\n      <th>time (s)</th>\n      <th>temperature (C)</th>\n      <th>Pressure(V)</th>\n    </tr>\n  </thead>\n  <tbody>\n    <tr>\n      <th>0</th>\n      <td>2.56</td>\n      <td>5.90</td>\n      <td>8.37</td>\n    </tr>\n    <tr>\n      <th>1</th>\n      <td>3.06</td>\n      <td>6.15</td>\n      <td>8.37</td>\n    </tr>\n    <tr>\n      <th>2</th>\n      <td>3.56</td>\n      <td>6.40</td>\n      <td>8.37</td>\n    </tr>\n    <tr>\n      <th>3</th>\n      <td>4.08</td>\n      <td>6.40</td>\n      <td>8.38</td>\n    </tr>\n    <tr>\n      <th>4</th>\n      <td>4.58</td>\n      <td>6.40</td>\n      <td>8.38</td>\n    </tr>\n  </tbody>\n</table>\n</div>"
     },
     "execution_count": 289,
     "metadata": {},
     "output_type": "execute_result"
    }
   ],
   "source": [
    "#get the first 400 values to its own dataframs\n",
    "df1 = df.iloc[:var, :]\n",
    "df1.head()"
   ],
   "metadata": {
    "collapsed": false,
    "pycharm": {
     "name": "#%%\n"
    }
   }
  },
  {
   "cell_type": "code",
   "execution_count": 290,
   "outputs": [
    {
     "data": {
      "text/plain": "<Figure size 432x288 with 1 Axes>",
      "image/png": "[encoded data removed]"
     },
     "metadata": {
      "needs_background": "light"
     },
     "output_type": "display_data"
    }
   ],
   "source": [
    "#plot the first 400 values\n",
    "plt.plot(df1['temperature (C)'], df1['Pressure(V)'])\n",
    "plt.xlabel('Temperature')\n",
    "plt.ylabel('Pressure')\n",
    "plt.title('Pressure vs Temperature')\n",
    "plt.show()"
   ],
   "metadata": {
    "collapsed": false,
    "pycharm": {
     "name": "#%%\n"
    }
   }
  },
  {
   "cell_type": "code",
   "execution_count": 291,
   "outputs": [
    {
     "name": "stdout",
     "output_type": "stream",
     "text": [
      "slope: -4.548229853068215\n"
     ]
    }
   ],
   "source": [
    "#fit the data to a line\n",
    "from scipy.optimize import curve_fit\n",
    "def func(x, a, b):\n",
    "    return a * x + b\n",
    "\n",
    "x = df1['temperature (C)']\n",
    "y = df1['Pressure(V)']\n",
    "popt, pcov = curve_fit(func, x, y)\n",
    "print(\"slope:\", popt[0])"
   ],
   "metadata": {
    "collapsed": false,
    "pycharm": {
     "name": "#%%\n"
    }
   }
  },
  {
   "cell_type": "code",
   "execution_count": 292,
   "outputs": [
    {
     "data": {
      "text/plain": "<Figure size 432x288 with 1 Axes>",
      "image/png": "[encoded data removed]"
     },
     "metadata": {
      "needs_background": "light"
     },
     "output_type": "display_data"
    }
   ],
   "source": [
    "#plot the fitted data\n",
    "plt.plot(df['temperature (C)'], df[\"Pressure(V)\"], 'ko', label=\"Original Noised Data\")\n",
    "plt.plot(x, func(x, *popt), 'r-', label=\"Fitted Curve\")\n",
    "plt.legend()\n",
    "plt.show()"
   ],
   "metadata": {
    "collapsed": false,
    "pycharm": {
     "name": "#%%\n"
    }
   }
  },
  {
   "cell_type": "code",
   "execution_count": 293,
   "outputs": [
    {
     "data": {
      "text/plain": "     time (s)  temperature (C)  Pressure(V)\n450    228.40             9.15         0.51\n451    228.90             9.15         0.50\n452    229.40             9.15         0.50\n453    229.90             8.90         0.51\n454    230.41             8.90         0.49",
      "text/html": "<div>\n<style scoped>\n    .dataframe tbody tr th:only-of-type {\n        vertical-align: middle;\n    }\n\n    .dataframe tbody tr th {\n        vertical-align: top;\n    }\n\n    .dataframe thead th {\n        text-align: right;\n    }\n</style>\n<table border=\"1\" class=\"dataframe\">\n  <thead>\n    <tr style=\"text-align: right;\">\n      <th></th>\n      <th>time (s)</th>\n      <th>temperature (C)</th>\n      <th>Pressure(V)</th>\n    </tr>\n  </thead>\n  <tbody>\n    <tr>\n      <th>450</th>\n      <td>228.40</td>\n      <td>9.15</td>\n      <td>0.51</td>\n    </tr>\n    <tr>\n      <th>451</th>\n      <td>228.90</td>\n      <td>9.15</td>\n      <td>0.50</td>\n    </tr>\n    <tr>\n      <th>452</th>\n      <td>229.40</td>\n      <td>9.15</td>\n      <td>0.50</td>\n    </tr>\n    <tr>\n      <th>453</th>\n      <td>229.90</td>\n      <td>8.90</td>\n      <td>0.51</td>\n    </tr>\n    <tr>\n      <th>454</th>\n      <td>230.41</td>\n      <td>8.90</td>\n      <td>0.49</td>\n    </tr>\n  </tbody>\n</table>\n</div>"
     },
     "execution_count": 293,
     "metadata": {},
     "output_type": "execute_result"
    }
   ],
   "source": [
    "\n",
    "#fit the data from 400 to the end\n",
    "df2 = df.iloc[var:, :]\n",
    "df2.head()"
   ],
   "metadata": {
    "collapsed": false,
    "pycharm": {
     "name": "#%%\n"
    }
   }
  },
  {
   "cell_type": "code",
   "execution_count": 294,
   "outputs": [
    {
     "data": {
      "text/plain": "<Figure size 432x288 with 1 Axes>",
      "image/png": "[encoded data removed]"
     },
     "metadata": {
      "needs_background": "light"
     },
     "output_type": "display_data"
    }
   ],
   "source": [
    "#plot the data from 400 to the end\n",
    "plt.plot(df2['temperature (C)'], df2['Pressure(V)'])\n",
    "plt.xlabel('Temperature')\n",
    "plt.ylabel('Pressure')\n",
    "plt.title('Pressure vs Temperature')\n",
    "plt.show()"
   ],
   "metadata": {
    "collapsed": false,
    "pycharm": {
     "name": "#%%\n"
    }
   }
  },
  {
   "cell_type": "code",
   "execution_count": 295,
   "outputs": [],
   "source": [
    "#fit the data to a line\n",
    "from scipy.optimize import curve_fit\n",
    "def func(x, a, b):\n",
    "    return a * x + b"
   ],
   "metadata": {
    "collapsed": false,
    "pycharm": {
     "name": "#%%\n"
    }
   }
  },
  {
   "cell_type": "code",
   "execution_count": 296,
   "outputs": [
    {
     "name": "stdout",
     "output_type": "stream",
     "text": [
      "slope: -4.548229853068215\n"
     ]
    }
   ],
   "source": [
    "x = df2['temperature (C)']\n",
    "y = df2['Pressure(V)']\n",
    "popt2, pcov2 = curve_fit(func, x, y)\n",
    "print(\"slope:\", popt[0])"
   ],
   "metadata": {
    "collapsed": false,
    "pycharm": {
     "name": "#%%\n"
    }
   }
  },
  {
   "cell_type": "code",
   "execution_count": 297,
   "outputs": [
    {
     "data": {
      "text/plain": "<Figure size 432x288 with 1 Axes>",
      "image/png": "[encoded data removed]"
     },
     "metadata": {
      "needs_background": "light"
     },
     "output_type": "display_data"
    }
   ],
   "source": [
    "#plot the fitted data\n",
    "plt.plot(df['temperature (C)'], df[\"Pressure(V)\"], 'ko', label=\"Original Noised Data\")\n",
    "plt.plot(x, func(x, *popt2), 'r-', label=\"Fitted Curve\")\n",
    "plt.legend()\n",
    "plt.show()"
   ],
   "metadata": {
    "collapsed": false,
    "pycharm": {
     "name": "#%%\n"
    }
   }
  },
  {
   "cell_type": "code",
   "execution_count": 298,
   "outputs": [
    {
     "data": {
      "text/plain": "<Figure size 432x288 with 1 Axes>",
      "image/png": "[encoded data removed]"
     },
     "metadata": {
      "needs_background": "light"
     },
     "output_type": "display_data"
    }
   ],
   "source": [
    "#plot everything together and scale correctly with a truncated fit for part one\n",
    "plt.plot(df['temperature (C)'], df[\"Pressure(V)\"], 'ko', label=\"Original Noised Data\")\n",
    "plt.plot(x, func(x, *popt2), 'r-', label=\"Fitted Curve\")\n",
    "plt.plot(x, func(x, *popt), 'r-', label=\"Fitted Curve\")\n",
    "plt.legend()\n",
    "plt.show()"
   ],
   "metadata": {
    "collapsed": false,
    "pycharm": {
     "name": "#%%\n"
    }
   }
  },
  {
   "cell_type": "code",
   "execution_count": 299,
   "outputs": [
    {
     "name": "stdout",
     "output_type": "stream",
     "text": [
      "average slope: -2.2818462303699074\n"
     ]
    }
   ],
   "source": [
    "#calculate the average slope\n",
    "average_slope = (popt[0] + popt2[0])/2\n",
    "print(\"average slope:\", average_slope)"
   ],
   "metadata": {
    "collapsed": false,
    "pycharm": {
     "name": "#%%\n"
    }
   }
  },
  {
   "cell_type": "code",
   "execution_count": 300,
   "outputs": [
    {
     "name": "stdout",
     "output_type": "stream",
     "text": [
      "intersection: 8.636317333244598\n"
     ]
    }
   ],
   "source": [
    "#calculate intersection of both lines\n",
    "intersection = (popt[1] - popt2[1])/(popt2[0] - popt[0])\n",
    "print(\"intersection:\", intersection)"
   ],
   "metadata": {
    "collapsed": false,
    "pycharm": {
     "name": "#%%\n"
    }
   }
  },
  {
   "cell_type": "code",
   "execution_count": 301,
   "outputs": [
    {
     "data": {
      "text/plain": "     Slopes\n0 -4.548230\n1 -0.015463",
      "text/html": "<div>\n<style scoped>\n    .dataframe tbody tr th:only-of-type {\n        vertical-align: middle;\n    }\n\n    .dataframe tbody tr th {\n        vertical-align: top;\n    }\n\n    .dataframe thead th {\n        text-align: right;\n    }\n</style>\n<table border=\"1\" class=\"dataframe\">\n  <thead>\n    <tr style=\"text-align: right;\">\n      <th></th>\n      <th>Slopes</th>\n    </tr>\n  </thead>\n  <tbody>\n    <tr>\n      <th>0</th>\n      <td>-4.548230</td>\n    </tr>\n    <tr>\n      <th>1</th>\n      <td>-0.015463</td>\n    </tr>\n  </tbody>\n</table>\n</div>"
     },
     "execution_count": 301,
     "metadata": {},
     "output_type": "execute_result"
    }
   ],
   "source": [
    "#make a table with all the slopes\n",
    "slopes = [popt[0], popt2[0]]\n",
    "df3 = pd.DataFrame(slopes, columns = ['Slopes'])\n",
    "df3.head()"
   ],
   "metadata": {
    "collapsed": false,
    "pycharm": {
     "name": "#%%\n"
    }
   }
  },
  {
   "cell_type": "code",
   "execution_count": 302,
   "outputs": [
    {
     "data": {
      "text/plain": "     Slopes  Intercepts\n0 -4.548230   39.665422\n1 -0.015463    0.519006",
      "text/html": "<div>\n<style scoped>\n    .dataframe tbody tr th:only-of-type {\n        vertical-align: middle;\n    }\n\n    .dataframe tbody tr th {\n        vertical-align: top;\n    }\n\n    .dataframe thead th {\n        text-align: right;\n    }\n</style>\n<table border=\"1\" class=\"dataframe\">\n  <thead>\n    <tr style=\"text-align: right;\">\n      <th></th>\n      <th>Slopes</th>\n      <th>Intercepts</th>\n    </tr>\n  </thead>\n  <tbody>\n    <tr>\n      <th>0</th>\n      <td>-4.548230</td>\n      <td>39.665422</td>\n    </tr>\n    <tr>\n      <th>1</th>\n      <td>-0.015463</td>\n      <td>0.519006</td>\n    </tr>\n  </tbody>\n</table>\n</div>"
     },
     "execution_count": 302,
     "metadata": {},
     "output_type": "execute_result"
    }
   ],
   "source": [
    "#add intercepts to the table\n",
    "intercepts = [popt[1], popt2[1]]\n",
    "df3['Intercepts'] = intercepts\n",
    "df3.head()"
   ],
   "metadata": {
    "collapsed": false,
    "pycharm": {
     "name": "#%%\n"
    }
   }
  },
  {
   "cell_type": "code",
   "execution_count": 303,
   "outputs": [
    {
     "data": {
      "text/plain": "     Slopes  Intercepts  Uncertainties\n0 -4.548230   39.665422   6.893866e-02\n1 -0.015463    0.519006   2.074012e-07",
      "text/html": "<div>\n<style scoped>\n    .dataframe tbody tr th:only-of-type {\n        vertical-align: middle;\n    }\n\n    .dataframe tbody tr th {\n        vertical-align: top;\n    }\n\n    .dataframe thead th {\n        text-align: right;\n    }\n</style>\n<table border=\"1\" class=\"dataframe\">\n  <thead>\n    <tr style=\"text-align: right;\">\n      <th></th>\n      <th>Slopes</th>\n      <th>Intercepts</th>\n      <th>Uncertainties</th>\n    </tr>\n  </thead>\n  <tbody>\n    <tr>\n      <th>0</th>\n      <td>-4.548230</td>\n      <td>39.665422</td>\n      <td>6.893866e-02</td>\n    </tr>\n    <tr>\n      <th>1</th>\n      <td>-0.015463</td>\n      <td>0.519006</td>\n      <td>2.074012e-07</td>\n    </tr>\n  </tbody>\n</table>\n</div>"
     },
     "execution_count": 303,
     "metadata": {},
     "output_type": "execute_result"
    }
   ],
   "source": [
    "#add the uncertainties of each line to the table\n",
    "uncertainties = [pcov[0][0], pcov2[0][0]]\n",
    "df3['Uncertainties'] = uncertainties\n",
    "df3.head()"
   ],
   "metadata": {
    "collapsed": false,
    "pycharm": {
     "name": "#%%\n"
    }
   }
  },
  {
   "cell_type": "code",
   "execution_count": 304,
   "outputs": [
    {
     "data": {
      "text/plain": "     Slopes  Intercepts  Uncertainties  Uncertainties of intercept\n0 -4.548230   39.665422   6.893866e-02                    3.811821\n1 -0.015463    0.519006   2.074012e-07                    0.000056",
      "text/html": "<div>\n<style scoped>\n    .dataframe tbody tr th:only-of-type {\n        vertical-align: middle;\n    }\n\n    .dataframe tbody tr th {\n        vertical-align: top;\n    }\n\n    .dataframe thead th {\n        text-align: right;\n    }\n</style>\n<table border=\"1\" class=\"dataframe\">\n  <thead>\n    <tr style=\"text-align: right;\">\n      <th></th>\n      <th>Slopes</th>\n      <th>Intercepts</th>\n      <th>Uncertainties</th>\n      <th>Uncertainties of intercept</th>\n    </tr>\n  </thead>\n  <tbody>\n    <tr>\n      <th>0</th>\n      <td>-4.548230</td>\n      <td>39.665422</td>\n      <td>6.893866e-02</td>\n      <td>3.811821</td>\n    </tr>\n    <tr>\n      <th>1</th>\n      <td>-0.015463</td>\n      <td>0.519006</td>\n      <td>2.074012e-07</td>\n      <td>0.000056</td>\n    </tr>\n  </tbody>\n</table>\n</div>"
     },
     "execution_count": 304,
     "metadata": {},
     "output_type": "execute_result"
    }
   ],
   "source": [
    "#add uncertainties of each intercept to the table\n",
    "uncertainties_intercept = [pcov[1][1], pcov2[1][1]]\n",
    "df3['Uncertainties of intercept'] = uncertainties_intercept\n",
    "df3.head()"
   ],
   "metadata": {
    "collapsed": false,
    "pycharm": {
     "name": "#%%\n"
    }
   }
  },
  {
   "cell_type": "code",
   "execution_count": 305,
   "outputs": [
    {
     "data": {
      "text/plain": "              Slopes  Intercepts  Uncertainties  Uncertainties of intercept\nVertical   -4.548230   39.665422   6.893866e-02                    3.811821\nHorizontal -0.015463    0.519006   2.074012e-07                    0.000056",
      "text/html": "<div>\n<style scoped>\n    .dataframe tbody tr th:only-of-type {\n        vertical-align: middle;\n    }\n\n    .dataframe tbody tr th {\n        vertical-align: top;\n    }\n\n    .dataframe thead th {\n        text-align: right;\n    }\n</style>\n<table border=\"1\" class=\"dataframe\">\n  <thead>\n    <tr style=\"text-align: right;\">\n      <th></th>\n      <th>Slopes</th>\n      <th>Intercepts</th>\n      <th>Uncertainties</th>\n      <th>Uncertainties of intercept</th>\n    </tr>\n  </thead>\n  <tbody>\n    <tr>\n      <th>Vertical</th>\n      <td>-4.548230</td>\n      <td>39.665422</td>\n      <td>6.893866e-02</td>\n      <td>3.811821</td>\n    </tr>\n    <tr>\n      <th>Horizontal</th>\n      <td>-0.015463</td>\n      <td>0.519006</td>\n      <td>2.074012e-07</td>\n      <td>0.000056</td>\n    </tr>\n  </tbody>\n</table>\n</div>"
     },
     "execution_count": 305,
     "metadata": {},
     "output_type": "execute_result"
    }
   ],
   "source": [
    "# make 0 and 1 indexes to vertical and horizontal\n",
    "df3.index = ['Vertical', 'Horizontal']\n",
    "df3.head()"
   ],
   "metadata": {
    "collapsed": false,
    "pycharm": {
     "name": "#%%\n"
    }
   }
  },
  {
   "cell_type": "code",
   "execution_count": 306,
   "outputs": [],
   "source": [
    "df3.to_csv('PvT_analysis.csv')"
   ],
   "metadata": {
    "collapsed": false,
    "pycharm": {
     "name": "#%%\n"
    }
   }
  },
  {
   "cell_type": "code",
   "execution_count": 306,
   "outputs": [],
   "source": [],
   "metadata": {
    "collapsed": false,
    "pycharm": {
     "name": "#%%\n"
    }
   }
  }
 ],
 "metadata": {
  "kernelspec": {
   "display_name": "Python 3",
   "language": "python",
   "name": "python3"
  },
  "language_info": {
   "codemirror_mode": {
    "name": "ipython",
    "version": 2
   },
   "file_extension": ".py",
   "mimetype": "text/x-python",
   "name": "python",
   "nbconvert_exporter": "python",
   "pygments_lexer": "ipython2",
   "version": "2.7.6"
  }
 },
 "nbformat": 4,
 "nbformat_minor": 0
}