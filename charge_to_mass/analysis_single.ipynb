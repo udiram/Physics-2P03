{
 "cells": [
  {
   "cell_type": "code",
   "execution_count": 1,
   "outputs": [],
   "source": [
    "import pandas as pd\n",
    "import matplotlib.pyplot as plt\n",
    "from math import inf\n",
    "import numpy as np"
   ],
   "metadata": {
    "collapsed": false,
    "pycharm": {
     "name": "#%%\n"
    }
   }
  },
  {
   "cell_type": "code",
   "execution_count": 2,
   "outputs": [
    {
     "data": {
      "text/plain": "   Straight line current  Bar 5 current  Bar 4 current  Bar 3 current  \\\n0                 0.2468         1.5534         1.7466         1.9482   \n\n   Bar 2 current  Bar 1 current  Circle current  \n0         2.2501          2.652          2.7529  ",
      "text/html": "<div>\n<style scoped>\n    .dataframe tbody tr th:only-of-type {\n        vertical-align: middle;\n    }\n\n    .dataframe tbody tr th {\n        vertical-align: top;\n    }\n\n    .dataframe thead th {\n        text-align: right;\n    }\n</style>\n<table border=\"1\" class=\"dataframe\">\n  <thead>\n    <tr style=\"text-align: right;\">\n      <th></th>\n      <th>Straight line current</th>\n      <th>Bar 5 current</th>\n      <th>Bar 4 current</th>\n      <th>Bar 3 current</th>\n      <th>Bar 2 current</th>\n      <th>Bar 1 current</th>\n      <th>Circle current</th>\n    </tr>\n  </thead>\n  <tbody>\n    <tr>\n      <th>0</th>\n      <td>0.2468</td>\n      <td>1.5534</td>\n      <td>1.7466</td>\n      <td>1.9482</td>\n      <td>2.2501</td>\n      <td>2.652</td>\n      <td>2.7529</td>\n    </tr>\n  </tbody>\n</table>\n</div>"
     },
     "execution_count": 2,
     "metadata": {},
     "output_type": "execute_result"
    }
   ],
   "source": [
    "df = pd.read_csv('single_trial.csv')\n",
    "df.head()"
   ],
   "metadata": {
    "collapsed": false,
    "pycharm": {
     "name": "#%%\n"
    }
   }
  },
  {
   "cell_type": "code",
   "execution_count": 3,
   "outputs": [
    {
     "data": {
      "text/plain": "                            0\nStraight line current  0.2468\nBar 5 current          1.5534\nBar 4 current          1.7466\nBar 3 current          1.9482\nBar 2 current          2.2501",
      "text/html": "<div>\n<style scoped>\n    .dataframe tbody tr th:only-of-type {\n        vertical-align: middle;\n    }\n\n    .dataframe tbody tr th {\n        vertical-align: top;\n    }\n\n    .dataframe thead th {\n        text-align: right;\n    }\n</style>\n<table border=\"1\" class=\"dataframe\">\n  <thead>\n    <tr style=\"text-align: right;\">\n      <th></th>\n      <th>0</th>\n    </tr>\n  </thead>\n  <tbody>\n    <tr>\n      <th>Straight line current</th>\n      <td>0.2468</td>\n    </tr>\n    <tr>\n      <th>Bar 5 current</th>\n      <td>1.5534</td>\n    </tr>\n    <tr>\n      <th>Bar 4 current</th>\n      <td>1.7466</td>\n    </tr>\n    <tr>\n      <th>Bar 3 current</th>\n      <td>1.9482</td>\n    </tr>\n    <tr>\n      <th>Bar 2 current</th>\n      <td>2.2501</td>\n    </tr>\n  </tbody>\n</table>\n</div>"
     },
     "execution_count": 3,
     "metadata": {},
     "output_type": "execute_result"
    }
   ],
   "source": [
    "df = df.T\n",
    "df.head()"
   ],
   "metadata": {
    "collapsed": false,
    "pycharm": {
     "name": "#%%\n"
    }
   }
  },
  {
   "cell_type": "code",
   "execution_count": 4,
   "outputs": [
    {
     "data": {
      "text/plain": "                            0   radius  voltage\nStraight line current  0.2468      inf       20\nBar 5 current          1.5534  0.05770       20\nBar 4 current          1.7466  0.05150       20\nBar 3 current          1.9482  0.04510       20\nBar 2 current          2.2501  0.03875       20\nBar 1 current          2.6520  0.03240       20\nCircle current         2.7529  0.03000       20",
      "text/html": "<div>\n<style scoped>\n    .dataframe tbody tr th:only-of-type {\n        vertical-align: middle;\n    }\n\n    .dataframe tbody tr th {\n        vertical-align: top;\n    }\n\n    .dataframe thead th {\n        text-align: right;\n    }\n</style>\n<table border=\"1\" class=\"dataframe\">\n  <thead>\n    <tr style=\"text-align: right;\">\n      <th></th>\n      <th>0</th>\n      <th>radius</th>\n      <th>voltage</th>\n    </tr>\n  </thead>\n  <tbody>\n    <tr>\n      <th>Straight line current</th>\n      <td>0.2468</td>\n      <td>inf</td>\n      <td>20</td>\n    </tr>\n    <tr>\n      <th>Bar 5 current</th>\n      <td>1.5534</td>\n      <td>0.05770</td>\n      <td>20</td>\n    </tr>\n    <tr>\n      <th>Bar 4 current</th>\n      <td>1.7466</td>\n      <td>0.05150</td>\n      <td>20</td>\n    </tr>\n    <tr>\n      <th>Bar 3 current</th>\n      <td>1.9482</td>\n      <td>0.04510</td>\n      <td>20</td>\n    </tr>\n    <tr>\n      <th>Bar 2 current</th>\n      <td>2.2501</td>\n      <td>0.03875</td>\n      <td>20</td>\n    </tr>\n    <tr>\n      <th>Bar 1 current</th>\n      <td>2.6520</td>\n      <td>0.03240</td>\n      <td>20</td>\n    </tr>\n    <tr>\n      <th>Circle current</th>\n      <td>2.7529</td>\n      <td>0.03000</td>\n      <td>20</td>\n    </tr>\n  </tbody>\n</table>\n</div>"
     },
     "execution_count": 4,
     "metadata": {},
     "output_type": "execute_result"
    }
   ],
   "source": [
    "radii = [inf, 0.1154, 0.1030, 0.0902, 0.0775, 0.0648, 0.06]\n",
    "radii = [radius/2 for radius in radii]\n",
    "voltages = [20,20, 20, 20, 20, 20, 20]\n",
    "df['radius'] = radii\n",
    "df['voltage'] = voltages\n",
    "df"
   ],
   "metadata": {
    "collapsed": false,
    "pycharm": {
     "name": "#%%\n"
    }
   }
  },
  {
   "cell_type": "code",
   "execution_count": 5,
   "outputs": [
    {
     "data": {
      "text/plain": "                       current   radius  voltage\nStraight line current   0.2468      inf       20\nBar 5 current           1.5534  0.05770       20\nBar 4 current           1.7466  0.05150       20\nBar 3 current           1.9482  0.04510       20\nBar 2 current           2.2501  0.03875       20",
      "text/html": "<div>\n<style scoped>\n    .dataframe tbody tr th:only-of-type {\n        vertical-align: middle;\n    }\n\n    .dataframe tbody tr th {\n        vertical-align: top;\n    }\n\n    .dataframe thead th {\n        text-align: right;\n    }\n</style>\n<table border=\"1\" class=\"dataframe\">\n  <thead>\n    <tr style=\"text-align: right;\">\n      <th></th>\n      <th>current</th>\n      <th>radius</th>\n      <th>voltage</th>\n    </tr>\n  </thead>\n  <tbody>\n    <tr>\n      <th>Straight line current</th>\n      <td>0.2468</td>\n      <td>inf</td>\n      <td>20</td>\n    </tr>\n    <tr>\n      <th>Bar 5 current</th>\n      <td>1.5534</td>\n      <td>0.05770</td>\n      <td>20</td>\n    </tr>\n    <tr>\n      <th>Bar 4 current</th>\n      <td>1.7466</td>\n      <td>0.05150</td>\n      <td>20</td>\n    </tr>\n    <tr>\n      <th>Bar 3 current</th>\n      <td>1.9482</td>\n      <td>0.04510</td>\n      <td>20</td>\n    </tr>\n    <tr>\n      <th>Bar 2 current</th>\n      <td>2.2501</td>\n      <td>0.03875</td>\n      <td>20</td>\n    </tr>\n  </tbody>\n</table>\n</div>"
     },
     "execution_count": 5,
     "metadata": {},
     "output_type": "execute_result"
    }
   ],
   "source": [
    "# rename first column to current\n",
    "df.rename(columns={0:'current'}, inplace=True)\n",
    "df.head()"
   ],
   "metadata": {
    "collapsed": false,
    "pycharm": {
     "name": "#%%\n"
    }
   }
  },
  {
   "cell_type": "code",
   "execution_count": 6,
   "outputs": [],
   "source": [
    "def y_calc(current, voltage):\n",
    "    y = current**2\n",
    "    return y\n",
    "\n",
    "def x_calc(distance):\n",
    "    x = 1/distance**2\n",
    "    return x"
   ],
   "metadata": {
    "collapsed": false,
    "pycharm": {
     "name": "#%%\n"
    }
   }
  },
  {
   "cell_type": "code",
   "execution_count": 7,
   "outputs": [
    {
     "data": {
      "text/plain": "                       current   radius  voltage         y           x\nStraight line current   0.2468      inf       20  0.060910    0.000000\nBar 5 current           1.5534  0.05770       20  2.413052  300.364342\nBar 4 current           1.7466  0.05150       20  3.050612  377.038364\nBar 3 current           1.9482  0.04510       20  3.795483  491.639667\nBar 2 current           2.2501  0.03875       20  5.062950  665.972945",
      "text/html": "<div>\n<style scoped>\n    .dataframe tbody tr th:only-of-type {\n        vertical-align: middle;\n    }\n\n    .dataframe tbody tr th {\n        vertical-align: top;\n    }\n\n    .dataframe thead th {\n        text-align: right;\n    }\n</style>\n<table border=\"1\" class=\"dataframe\">\n  <thead>\n    <tr style=\"text-align: right;\">\n      <th></th>\n      <th>current</th>\n      <th>radius</th>\n      <th>voltage</th>\n      <th>y</th>\n      <th>x</th>\n    </tr>\n  </thead>\n  <tbody>\n    <tr>\n      <th>Straight line current</th>\n      <td>0.2468</td>\n      <td>inf</td>\n      <td>20</td>\n      <td>0.060910</td>\n      <td>0.000000</td>\n    </tr>\n    <tr>\n      <th>Bar 5 current</th>\n      <td>1.5534</td>\n      <td>0.05770</td>\n      <td>20</td>\n      <td>2.413052</td>\n      <td>300.364342</td>\n    </tr>\n    <tr>\n      <th>Bar 4 current</th>\n      <td>1.7466</td>\n      <td>0.05150</td>\n      <td>20</td>\n      <td>3.050612</td>\n      <td>377.038364</td>\n    </tr>\n    <tr>\n      <th>Bar 3 current</th>\n      <td>1.9482</td>\n      <td>0.04510</td>\n      <td>20</td>\n      <td>3.795483</td>\n      <td>491.639667</td>\n    </tr>\n    <tr>\n      <th>Bar 2 current</th>\n      <td>2.2501</td>\n      <td>0.03875</td>\n      <td>20</td>\n      <td>5.062950</td>\n      <td>665.972945</td>\n    </tr>\n  </tbody>\n</table>\n</div>"
     },
     "execution_count": 7,
     "metadata": {},
     "output_type": "execute_result"
    }
   ],
   "source": [
    "df['y'] = df.apply(lambda row: y_calc(row['current'], row['voltage']), axis=1)\n",
    "df['x'] = df.apply(lambda row: x_calc(row['radius']), axis=1)\n",
    "df.head()"
   ],
   "metadata": {
    "collapsed": false,
    "pycharm": {
     "name": "#%%\n"
    }
   }
  },
  {
   "cell_type": "code",
   "execution_count": 8,
   "outputs": [
    {
     "data": {
      "text/plain": "[<matplotlib.lines.Line2D at 0x7f7f1cbbbbb0>]"
     },
     "execution_count": 8,
     "metadata": {},
     "output_type": "execute_result"
    },
    {
     "data": {
      "text/plain": "<Figure size 432x288 with 1 Axes>",
      "image/png": "[encoded data removed]"
     },
     "metadata": {
      "needs_background": "light"
     },
     "output_type": "display_data"
    }
   ],
   "source": [
    "plt.plot(df['x'], df['y'], 'o')"
   ],
   "metadata": {
    "collapsed": false,
    "pycharm": {
     "name": "#%%\n"
    }
   }
  },
  {
   "cell_type": "code",
   "execution_count": 9,
   "outputs": [
    {
     "name": "stdout",
     "output_type": "stream",
     "text": [
      "slope: 0.0068501632650158914\n",
      "intercept: 0.3268093478057228\n",
      "r_value: 0.9964920715099534\n",
      "p_value: 1.397217554275494e-06\n",
      "std_err: 0.0002572771602054151\n"
     ]
    }
   ],
   "source": [
    "# fit a line to the data\n",
    "from scipy import stats\n",
    "slope, intercept, r_value, p_value, std_err = stats.linregress(df['x'], df['y'])\n",
    "print(f'slope: {slope}')\n",
    "print(f'intercept: {intercept}')\n",
    "print(f'r_value: {r_value}')\n",
    "print(f'p_value: {p_value}')\n",
    "print(f'std_err: {std_err}')"
   ],
   "metadata": {
    "collapsed": false,
    "pycharm": {
     "name": "#%%\n"
    }
   }
  },
  {
   "cell_type": "code",
   "execution_count": 15,
   "outputs": [
    {
     "data": {
      "text/plain": "<Figure size 432x288 with 1 Axes>",
      "image/png": "[encoded data removed]"
     },
     "metadata": {
      "needs_background": "light"
     },
     "output_type": "display_data"
    }
   ],
   "source": [
    "def abline(slope, intercept):\n",
    "    \"\"\"Plot a line from slope and intercept\"\"\"\n",
    "    x_vals = np.array(df['x'])\n",
    "    y_vals = intercept + slope * x_vals\n",
    "    return x_vals, y_vals\n",
    "\n",
    "\n",
    "x, y = abline(slope, intercept)\n",
    "plt.plot(x,y)\n",
    "plt.plot(df['x'], df['y'], 'o')\n",
    "plt.title(\"plot of I^2 vs 1/r^2 for 20V anode\")\n",
    "plt.xlabel(\"1/r^2 (m^-2))\")\n",
    "plt.ylabel(\"I^2 (A^2)\")\n",
    "plt.savefig(\"plot.png\")\n",
    "plt.show()\n",
    "\n",
    "\n"
   ],
   "metadata": {
    "collapsed": false,
    "pycharm": {
     "name": "#%%\n"
    }
   }
  },
  {
   "cell_type": "code",
   "execution_count": 11,
   "outputs": [],
   "source": [
    "def m_e(slope, mean_rad, voltage, N, const):\n",
    "    y = const * (mean_rad**2) * (voltage)\n",
    "    y = y/N**2\n",
    "    m_e = slope/y\n",
    "    return m_e"
   ],
   "metadata": {
    "collapsed": false,
    "pycharm": {
     "name": "#%%\n"
    }
   }
  },
  {
   "cell_type": "code",
   "execution_count": 12,
   "outputs": [
    {
     "name": "stdout",
     "output_type": "stream",
     "text": [
      "1.66e+11\n"
     ]
    }
   ],
   "source": [
    "#print in scientific notation\n",
    "answer = (1/m_e(slope, 0.33, 20, 72, 2.7e12))\n",
    "print(f'{answer:.2e}')"
   ],
   "metadata": {
    "collapsed": false,
    "pycharm": {
     "name": "#%%\n"
    }
   }
  },
  {
   "cell_type": "code",
   "execution_count": 12,
   "outputs": [],
   "source": [],
   "metadata": {
    "collapsed": false,
    "pycharm": {
     "name": "#%%\n"
    }
   }
  }
 ],
 "metadata": {
  "kernelspec": {
   "display_name": "Python 3",
   "language": "python",
   "name": "python3"
  },
  "language_info": {
   "codemirror_mode": {
    "name": "ipython",
    "version": 2
   },
   "file_extension": ".py",
   "mimetype": "text/x-python",
   "name": "python",
   "nbconvert_exporter": "python",
   "pygments_lexer": "ipython2",
   "version": "2.7.6"
  }
 },
 "nbformat": 4,
 "nbformat_minor": 0
}