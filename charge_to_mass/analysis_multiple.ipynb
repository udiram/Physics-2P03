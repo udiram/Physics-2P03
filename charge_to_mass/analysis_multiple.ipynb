{
 "cells": [
  {
   "cell_type": "code",
   "execution_count": 27,
   "outputs": [],
   "source": [
    "import pandas as pd\n",
    "import numpy as np\n",
    "import matplotlib.pyplot as plt\n",
    "from math import inf"
   ],
   "metadata": {
    "collapsed": false,
    "pycharm": {
     "name": "#%%\n"
    }
   }
  },
  {
   "cell_type": "code",
   "execution_count": 28,
   "outputs": [
    {
     "data": {
      "text/plain": "   Anode V  filament current  Circle   Bar 1   Bar 2   Bar 3   Bar 4   Bar 5  \\\n0       20             4.178  2.7529  2.6520  2.2501  1.9482  1.7466  1.5534   \n1       25             4.178  3.0547  2.8593  2.4502  2.1493  1.9480  1.7466   \n2       30             4.178  3.3526  3.1556  2.6521  2.3512  2.0489  1.8472   \n3       35             4.178  3.6555  3.3526  2.8539  2.5512  2.1494  1.9481   \n4       40             4.178  3.8572  3.5547  3.0550  2.6522  2.3512  2.0490   \n\n   Straight line current  \n0                 0.2468  \n1                 0.2468  \n2                 0.3476  \n3                 0.3477  \n4                 0.3477  ",
      "text/html": "<div>\n<style scoped>\n    .dataframe tbody tr th:only-of-type {\n        vertical-align: middle;\n    }\n\n    .dataframe tbody tr th {\n        vertical-align: top;\n    }\n\n    .dataframe thead th {\n        text-align: right;\n    }\n</style>\n<table border=\"1\" class=\"dataframe\">\n  <thead>\n    <tr style=\"text-align: right;\">\n      <th></th>\n      <th>Anode V</th>\n      <th>filament current</th>\n      <th>Circle</th>\n      <th>Bar 1</th>\n      <th>Bar 2</th>\n      <th>Bar 3</th>\n      <th>Bar 4</th>\n      <th>Bar 5</th>\n      <th>Straight line current</th>\n    </tr>\n  </thead>\n  <tbody>\n    <tr>\n      <th>0</th>\n      <td>20</td>\n      <td>4.178</td>\n      <td>2.7529</td>\n      <td>2.6520</td>\n      <td>2.2501</td>\n      <td>1.9482</td>\n      <td>1.7466</td>\n      <td>1.5534</td>\n      <td>0.2468</td>\n    </tr>\n    <tr>\n      <th>1</th>\n      <td>25</td>\n      <td>4.178</td>\n      <td>3.0547</td>\n      <td>2.8593</td>\n      <td>2.4502</td>\n      <td>2.1493</td>\n      <td>1.9480</td>\n      <td>1.7466</td>\n      <td>0.2468</td>\n    </tr>\n    <tr>\n      <th>2</th>\n      <td>30</td>\n      <td>4.178</td>\n      <td>3.3526</td>\n      <td>3.1556</td>\n      <td>2.6521</td>\n      <td>2.3512</td>\n      <td>2.0489</td>\n      <td>1.8472</td>\n      <td>0.3476</td>\n    </tr>\n    <tr>\n      <th>3</th>\n      <td>35</td>\n      <td>4.178</td>\n      <td>3.6555</td>\n      <td>3.3526</td>\n      <td>2.8539</td>\n      <td>2.5512</td>\n      <td>2.1494</td>\n      <td>1.9481</td>\n      <td>0.3477</td>\n    </tr>\n    <tr>\n      <th>4</th>\n      <td>40</td>\n      <td>4.178</td>\n      <td>3.8572</td>\n      <td>3.5547</td>\n      <td>3.0550</td>\n      <td>2.6522</td>\n      <td>2.3512</td>\n      <td>2.0490</td>\n      <td>0.3477</td>\n    </tr>\n  </tbody>\n</table>\n</div>"
     },
     "execution_count": 28,
     "metadata": {},
     "output_type": "execute_result"
    }
   ],
   "source": [
    "df = pd.read_csv('multi_trial.csv')\n",
    "df.head()"
   ],
   "metadata": {
    "collapsed": false,
    "pycharm": {
     "name": "#%%\n"
    }
   }
  },
  {
   "cell_type": "code",
   "execution_count": 29,
   "outputs": [],
   "source": [
    "df = df.drop(['filament current', 'Anode V' ], axis=1)"
   ],
   "metadata": {
    "collapsed": false,
    "pycharm": {
     "name": "#%%\n"
    }
   }
  },
  {
   "cell_type": "code",
   "execution_count": 30,
   "outputs": [
    {
     "data": {
      "text/plain": "             0       1       2       3       4       5       6\nCircle  2.7529  3.0547  3.3526  3.6555  3.8572  4.0592  4.0592\nBar 1   2.6520  2.8593  3.1556  3.3526  3.5547  3.7564  3.9583\nBar 2   2.2501  2.4502  2.6521  2.8539  3.0550  3.2568  3.3531\nBar 3   1.9482  2.1493  2.3512  2.5512  2.6522  2.7530  2.9554\nBar 4   1.7466  1.9480  2.0489  2.1494  2.3512  2.4504  2.5517",
      "text/html": "<div>\n<style scoped>\n    .dataframe tbody tr th:only-of-type {\n        vertical-align: middle;\n    }\n\n    .dataframe tbody tr th {\n        vertical-align: top;\n    }\n\n    .dataframe thead th {\n        text-align: right;\n    }\n</style>\n<table border=\"1\" class=\"dataframe\">\n  <thead>\n    <tr style=\"text-align: right;\">\n      <th></th>\n      <th>0</th>\n      <th>1</th>\n      <th>2</th>\n      <th>3</th>\n      <th>4</th>\n      <th>5</th>\n      <th>6</th>\n    </tr>\n  </thead>\n  <tbody>\n    <tr>\n      <th>Circle</th>\n      <td>2.7529</td>\n      <td>3.0547</td>\n      <td>3.3526</td>\n      <td>3.6555</td>\n      <td>3.8572</td>\n      <td>4.0592</td>\n      <td>4.0592</td>\n    </tr>\n    <tr>\n      <th>Bar 1</th>\n      <td>2.6520</td>\n      <td>2.8593</td>\n      <td>3.1556</td>\n      <td>3.3526</td>\n      <td>3.5547</td>\n      <td>3.7564</td>\n      <td>3.9583</td>\n    </tr>\n    <tr>\n      <th>Bar 2</th>\n      <td>2.2501</td>\n      <td>2.4502</td>\n      <td>2.6521</td>\n      <td>2.8539</td>\n      <td>3.0550</td>\n      <td>3.2568</td>\n      <td>3.3531</td>\n    </tr>\n    <tr>\n      <th>Bar 3</th>\n      <td>1.9482</td>\n      <td>2.1493</td>\n      <td>2.3512</td>\n      <td>2.5512</td>\n      <td>2.6522</td>\n      <td>2.7530</td>\n      <td>2.9554</td>\n    </tr>\n    <tr>\n      <th>Bar 4</th>\n      <td>1.7466</td>\n      <td>1.9480</td>\n      <td>2.0489</td>\n      <td>2.1494</td>\n      <td>2.3512</td>\n      <td>2.4504</td>\n      <td>2.5517</td>\n    </tr>\n  </tbody>\n</table>\n</div>"
     },
     "execution_count": 30,
     "metadata": {},
     "output_type": "execute_result"
    }
   ],
   "source": [
    "df = df.T\n",
    "df.head()"
   ],
   "metadata": {
    "collapsed": false,
    "pycharm": {
     "name": "#%%\n"
    }
   }
  },
  {
   "cell_type": "code",
   "execution_count": 31,
   "outputs": [
    {
     "data": {
      "text/plain": "             0       1       2       3       4       5       6   radius\nCircle  2.7529  3.0547  3.3526  3.6555  3.8572  4.0592  4.0592      inf\nBar 1   2.6520  2.8593  3.1556  3.3526  3.5547  3.7564  3.9583  0.05770\nBar 2   2.2501  2.4502  2.6521  2.8539  3.0550  3.2568  3.3531  0.05150\nBar 3   1.9482  2.1493  2.3512  2.5512  2.6522  2.7530  2.9554  0.04510\nBar 4   1.7466  1.9480  2.0489  2.1494  2.3512  2.4504  2.5517  0.03875",
      "text/html": "<div>\n<style scoped>\n    .dataframe tbody tr th:only-of-type {\n        vertical-align: middle;\n    }\n\n    .dataframe tbody tr th {\n        vertical-align: top;\n    }\n\n    .dataframe thead th {\n        text-align: right;\n    }\n</style>\n<table border=\"1\" class=\"dataframe\">\n  <thead>\n    <tr style=\"text-align: right;\">\n      <th></th>\n      <th>0</th>\n      <th>1</th>\n      <th>2</th>\n      <th>3</th>\n      <th>4</th>\n      <th>5</th>\n      <th>6</th>\n      <th>radius</th>\n    </tr>\n  </thead>\n  <tbody>\n    <tr>\n      <th>Circle</th>\n      <td>2.7529</td>\n      <td>3.0547</td>\n      <td>3.3526</td>\n      <td>3.6555</td>\n      <td>3.8572</td>\n      <td>4.0592</td>\n      <td>4.0592</td>\n      <td>inf</td>\n    </tr>\n    <tr>\n      <th>Bar 1</th>\n      <td>2.6520</td>\n      <td>2.8593</td>\n      <td>3.1556</td>\n      <td>3.3526</td>\n      <td>3.5547</td>\n      <td>3.7564</td>\n      <td>3.9583</td>\n      <td>0.05770</td>\n    </tr>\n    <tr>\n      <th>Bar 2</th>\n      <td>2.2501</td>\n      <td>2.4502</td>\n      <td>2.6521</td>\n      <td>2.8539</td>\n      <td>3.0550</td>\n      <td>3.2568</td>\n      <td>3.3531</td>\n      <td>0.05150</td>\n    </tr>\n    <tr>\n      <th>Bar 3</th>\n      <td>1.9482</td>\n      <td>2.1493</td>\n      <td>2.3512</td>\n      <td>2.5512</td>\n      <td>2.6522</td>\n      <td>2.7530</td>\n      <td>2.9554</td>\n      <td>0.04510</td>\n    </tr>\n    <tr>\n      <th>Bar 4</th>\n      <td>1.7466</td>\n      <td>1.9480</td>\n      <td>2.0489</td>\n      <td>2.1494</td>\n      <td>2.3512</td>\n      <td>2.4504</td>\n      <td>2.5517</td>\n      <td>0.03875</td>\n    </tr>\n  </tbody>\n</table>\n</div>"
     },
     "execution_count": 31,
     "metadata": {},
     "output_type": "execute_result"
    }
   ],
   "source": [
    "distances = [inf, 0.1154, 0.1030, 0.0902, 0.0775, 0.0648, 0.06]\n",
    "Anode_V = [20,25,30,35,40,45,50]\n",
    "radius = [distance/2 for distance in distances]\n",
    "df['radius'] = radius\n",
    "df.head()"
   ],
   "metadata": {
    "collapsed": false,
    "pycharm": {
     "name": "#%%\n"
    }
   }
  },
  {
   "cell_type": "code",
   "execution_count": 32,
   "outputs": [],
   "source": [
    "def y_calc(current, voltage):\n",
    "    y = current**2\n",
    "    return y\n",
    "\n",
    "def x_calc(distance):\n",
    "    x = 1/distance**2\n",
    "    return x"
   ],
   "metadata": {
    "collapsed": false,
    "pycharm": {
     "name": "#%%\n"
    }
   }
  },
  {
   "cell_type": "code",
   "execution_count": 33,
   "outputs": [
    {
     "name": "stdout",
     "output_type": "stream",
     "text": [
      "0\n",
      "1\n",
      "2\n",
      "3\n",
      "4\n",
      "5\n",
      "6\n"
     ]
    },
    {
     "name": "stderr",
     "output_type": "stream",
     "text": [
      "<ipython-input-33-0dda0af06c62>:5: SettingWithCopyWarning: \n",
      "A value is trying to be set on a copy of a slice from a DataFrame\n",
      "\n",
      "See the caveats in the documentation: https://pandas.pydata.org/pandas-docs/stable/user_guide/indexing.html#returning-a-view-versus-a-copy\n",
      "  df_temp.rename(columns={col:Anode_V[col]}, inplace=True)\n",
      "<ipython-input-33-0dda0af06c62>:6: SettingWithCopyWarning: \n",
      "A value is trying to be set on a copy of a slice from a DataFrame.\n",
      "Try using .loc[row_indexer,col_indexer] = value instead\n",
      "\n",
      "See the caveats in the documentation: https://pandas.pydata.org/pandas-docs/stable/user_guide/indexing.html#returning-a-view-versus-a-copy\n",
      "  df_temp['y'] = df_temp.apply(lambda row: y_calc(row[Anode_V[col]], Anode_V[col]), axis=1)\n",
      "<ipython-input-33-0dda0af06c62>:7: SettingWithCopyWarning: \n",
      "A value is trying to be set on a copy of a slice from a DataFrame.\n",
      "Try using .loc[row_indexer,col_indexer] = value instead\n",
      "\n",
      "See the caveats in the documentation: https://pandas.pydata.org/pandas-docs/stable/user_guide/indexing.html#returning-a-view-versus-a-copy\n",
      "  df_temp['x'] = df_temp.apply(lambda row: x_calc(row['radius']), axis=1)\n",
      "<ipython-input-33-0dda0af06c62>:5: SettingWithCopyWarning: \n",
      "A value is trying to be set on a copy of a slice from a DataFrame\n",
      "\n",
      "See the caveats in the documentation: https://pandas.pydata.org/pandas-docs/stable/user_guide/indexing.html#returning-a-view-versus-a-copy\n",
      "  df_temp.rename(columns={col:Anode_V[col]}, inplace=True)\n",
      "<ipython-input-33-0dda0af06c62>:6: SettingWithCopyWarning: \n",
      "A value is trying to be set on a copy of a slice from a DataFrame.\n",
      "Try using .loc[row_indexer,col_indexer] = value instead\n",
      "\n",
      "See the caveats in the documentation: https://pandas.pydata.org/pandas-docs/stable/user_guide/indexing.html#returning-a-view-versus-a-copy\n",
      "  df_temp['y'] = df_temp.apply(lambda row: y_calc(row[Anode_V[col]], Anode_V[col]), axis=1)\n",
      "<ipython-input-33-0dda0af06c62>:7: SettingWithCopyWarning: \n",
      "A value is trying to be set on a copy of a slice from a DataFrame.\n",
      "Try using .loc[row_indexer,col_indexer] = value instead\n",
      "\n",
      "See the caveats in the documentation: https://pandas.pydata.org/pandas-docs/stable/user_guide/indexing.html#returning-a-view-versus-a-copy\n",
      "  df_temp['x'] = df_temp.apply(lambda row: x_calc(row['radius']), axis=1)\n",
      "<ipython-input-33-0dda0af06c62>:5: SettingWithCopyWarning: \n",
      "A value is trying to be set on a copy of a slice from a DataFrame\n",
      "\n",
      "See the caveats in the documentation: https://pandas.pydata.org/pandas-docs/stable/user_guide/indexing.html#returning-a-view-versus-a-copy\n",
      "  df_temp.rename(columns={col:Anode_V[col]}, inplace=True)\n",
      "<ipython-input-33-0dda0af06c62>:6: SettingWithCopyWarning: \n",
      "A value is trying to be set on a copy of a slice from a DataFrame.\n",
      "Try using .loc[row_indexer,col_indexer] = value instead\n",
      "\n",
      "See the caveats in the documentation: https://pandas.pydata.org/pandas-docs/stable/user_guide/indexing.html#returning-a-view-versus-a-copy\n",
      "  df_temp['y'] = df_temp.apply(lambda row: y_calc(row[Anode_V[col]], Anode_V[col]), axis=1)\n",
      "<ipython-input-33-0dda0af06c62>:7: SettingWithCopyWarning: \n",
      "A value is trying to be set on a copy of a slice from a DataFrame.\n",
      "Try using .loc[row_indexer,col_indexer] = value instead\n",
      "\n",
      "See the caveats in the documentation: https://pandas.pydata.org/pandas-docs/stable/user_guide/indexing.html#returning-a-view-versus-a-copy\n",
      "  df_temp['x'] = df_temp.apply(lambda row: x_calc(row['radius']), axis=1)\n",
      "<ipython-input-33-0dda0af06c62>:5: SettingWithCopyWarning: \n",
      "A value is trying to be set on a copy of a slice from a DataFrame\n",
      "\n",
      "See the caveats in the documentation: https://pandas.pydata.org/pandas-docs/stable/user_guide/indexing.html#returning-a-view-versus-a-copy\n",
      "  df_temp.rename(columns={col:Anode_V[col]}, inplace=True)\n",
      "<ipython-input-33-0dda0af06c62>:6: SettingWithCopyWarning: \n",
      "A value is trying to be set on a copy of a slice from a DataFrame.\n",
      "Try using .loc[row_indexer,col_indexer] = value instead\n",
      "\n",
      "See the caveats in the documentation: https://pandas.pydata.org/pandas-docs/stable/user_guide/indexing.html#returning-a-view-versus-a-copy\n",
      "  df_temp['y'] = df_temp.apply(lambda row: y_calc(row[Anode_V[col]], Anode_V[col]), axis=1)\n",
      "<ipython-input-33-0dda0af06c62>:7: SettingWithCopyWarning: \n",
      "A value is trying to be set on a copy of a slice from a DataFrame.\n",
      "Try using .loc[row_indexer,col_indexer] = value instead\n",
      "\n",
      "See the caveats in the documentation: https://pandas.pydata.org/pandas-docs/stable/user_guide/indexing.html#returning-a-view-versus-a-copy\n",
      "  df_temp['x'] = df_temp.apply(lambda row: x_calc(row['radius']), axis=1)\n",
      "<ipython-input-33-0dda0af06c62>:5: SettingWithCopyWarning: \n",
      "A value is trying to be set on a copy of a slice from a DataFrame\n",
      "\n",
      "See the caveats in the documentation: https://pandas.pydata.org/pandas-docs/stable/user_guide/indexing.html#returning-a-view-versus-a-copy\n",
      "  df_temp.rename(columns={col:Anode_V[col]}, inplace=True)\n",
      "<ipython-input-33-0dda0af06c62>:6: SettingWithCopyWarning: \n",
      "A value is trying to be set on a copy of a slice from a DataFrame.\n",
      "Try using .loc[row_indexer,col_indexer] = value instead\n",
      "\n",
      "See the caveats in the documentation: https://pandas.pydata.org/pandas-docs/stable/user_guide/indexing.html#returning-a-view-versus-a-copy\n",
      "  df_temp['y'] = df_temp.apply(lambda row: y_calc(row[Anode_V[col]], Anode_V[col]), axis=1)\n",
      "<ipython-input-33-0dda0af06c62>:7: SettingWithCopyWarning: \n",
      "A value is trying to be set on a copy of a slice from a DataFrame.\n",
      "Try using .loc[row_indexer,col_indexer] = value instead\n",
      "\n",
      "See the caveats in the documentation: https://pandas.pydata.org/pandas-docs/stable/user_guide/indexing.html#returning-a-view-versus-a-copy\n",
      "  df_temp['x'] = df_temp.apply(lambda row: x_calc(row['radius']), axis=1)\n",
      "<ipython-input-33-0dda0af06c62>:5: SettingWithCopyWarning: \n",
      "A value is trying to be set on a copy of a slice from a DataFrame\n",
      "\n",
      "See the caveats in the documentation: https://pandas.pydata.org/pandas-docs/stable/user_guide/indexing.html#returning-a-view-versus-a-copy\n",
      "  df_temp.rename(columns={col:Anode_V[col]}, inplace=True)\n",
      "<ipython-input-33-0dda0af06c62>:6: SettingWithCopyWarning: \n",
      "A value is trying to be set on a copy of a slice from a DataFrame.\n",
      "Try using .loc[row_indexer,col_indexer] = value instead\n",
      "\n",
      "See the caveats in the documentation: https://pandas.pydata.org/pandas-docs/stable/user_guide/indexing.html#returning-a-view-versus-a-copy\n",
      "  df_temp['y'] = df_temp.apply(lambda row: y_calc(row[Anode_V[col]], Anode_V[col]), axis=1)\n",
      "<ipython-input-33-0dda0af06c62>:7: SettingWithCopyWarning: \n",
      "A value is trying to be set on a copy of a slice from a DataFrame.\n",
      "Try using .loc[row_indexer,col_indexer] = value instead\n",
      "\n",
      "See the caveats in the documentation: https://pandas.pydata.org/pandas-docs/stable/user_guide/indexing.html#returning-a-view-versus-a-copy\n",
      "  df_temp['x'] = df_temp.apply(lambda row: x_calc(row['radius']), axis=1)\n",
      "<ipython-input-33-0dda0af06c62>:5: SettingWithCopyWarning: \n",
      "A value is trying to be set on a copy of a slice from a DataFrame\n",
      "\n",
      "See the caveats in the documentation: https://pandas.pydata.org/pandas-docs/stable/user_guide/indexing.html#returning-a-view-versus-a-copy\n",
      "  df_temp.rename(columns={col:Anode_V[col]}, inplace=True)\n",
      "<ipython-input-33-0dda0af06c62>:6: SettingWithCopyWarning: \n",
      "A value is trying to be set on a copy of a slice from a DataFrame.\n",
      "Try using .loc[row_indexer,col_indexer] = value instead\n",
      "\n",
      "See the caveats in the documentation: https://pandas.pydata.org/pandas-docs/stable/user_guide/indexing.html#returning-a-view-versus-a-copy\n",
      "  df_temp['y'] = df_temp.apply(lambda row: y_calc(row[Anode_V[col]], Anode_V[col]), axis=1)\n",
      "<ipython-input-33-0dda0af06c62>:7: SettingWithCopyWarning: \n",
      "A value is trying to be set on a copy of a slice from a DataFrame.\n",
      "Try using .loc[row_indexer,col_indexer] = value instead\n",
      "\n",
      "See the caveats in the documentation: https://pandas.pydata.org/pandas-docs/stable/user_guide/indexing.html#returning-a-view-versus-a-copy\n",
      "  df_temp['x'] = df_temp.apply(lambda row: x_calc(row['radius']), axis=1)\n"
     ]
    },
    {
     "data": {
      "text/plain": "<Figure size 432x288 with 1 Axes>",
      "image/png": "[encoded data removed]"
     },
     "metadata": {
      "needs_background": "light"
     },
     "output_type": "display_data"
    }
   ],
   "source": [
    "for col in df.columns:\n",
    "    if col != 'radius':\n",
    "        print(col)\n",
    "        df_temp = df[['radius', col]]\n",
    "        df_temp.rename(columns={col:Anode_V[col]}, inplace=True)\n",
    "        df_temp['y'] = df_temp.apply(lambda row: y_calc(row[Anode_V[col]], Anode_V[col]), axis=1)\n",
    "        df_temp['x'] = df_temp.apply(lambda row: x_calc(row['radius']), axis=1)\n",
    "        df_temp.to_csv('anode_v_' + str(Anode_V[col]) + '.csv')\n",
    "        plt.plot(df_temp['x'], df_temp['y'], 'o')\n"
   ],
   "metadata": {
    "collapsed": false,
    "pycharm": {
     "name": "#%%\n"
    }
   }
  },
  {
   "cell_type": "code",
   "execution_count": 34,
   "outputs": [
    {
     "data": {
      "text/plain": "         radius      50          y           x\nCircle      inf  4.0592  16.477105    0.000000\nBar 1   0.05770  3.9583  15.668139  300.364342\nBar 2   0.05150  3.3531  11.243280  377.038364\nBar 3   0.04510  2.9554   8.734389  491.639667\nBar 4   0.03875  2.5517   6.511173  665.972945",
      "text/html": "<div>\n<style scoped>\n    .dataframe tbody tr th:only-of-type {\n        vertical-align: middle;\n    }\n\n    .dataframe tbody tr th {\n        vertical-align: top;\n    }\n\n    .dataframe thead th {\n        text-align: right;\n    }\n</style>\n<table border=\"1\" class=\"dataframe\">\n  <thead>\n    <tr style=\"text-align: right;\">\n      <th></th>\n      <th>radius</th>\n      <th>50</th>\n      <th>y</th>\n      <th>x</th>\n    </tr>\n  </thead>\n  <tbody>\n    <tr>\n      <th>Circle</th>\n      <td>inf</td>\n      <td>4.0592</td>\n      <td>16.477105</td>\n      <td>0.000000</td>\n    </tr>\n    <tr>\n      <th>Bar 1</th>\n      <td>0.05770</td>\n      <td>3.9583</td>\n      <td>15.668139</td>\n      <td>300.364342</td>\n    </tr>\n    <tr>\n      <th>Bar 2</th>\n      <td>0.05150</td>\n      <td>3.3531</td>\n      <td>11.243280</td>\n      <td>377.038364</td>\n    </tr>\n    <tr>\n      <th>Bar 3</th>\n      <td>0.04510</td>\n      <td>2.9554</td>\n      <td>8.734389</td>\n      <td>491.639667</td>\n    </tr>\n    <tr>\n      <th>Bar 4</th>\n      <td>0.03875</td>\n      <td>2.5517</td>\n      <td>6.511173</td>\n      <td>665.972945</td>\n    </tr>\n  </tbody>\n</table>\n</div>"
     },
     "execution_count": 34,
     "metadata": {},
     "output_type": "execute_result"
    }
   ],
   "source": [
    "df_temp.head()"
   ],
   "metadata": {
    "collapsed": false,
    "pycharm": {
     "name": "#%%\n"
    }
   }
  },
  {
   "cell_type": "code",
   "execution_count": 35,
   "outputs": [],
   "source": [
    "#fit all the data\n",
    "from scipy.optimize import curve_fit\n",
    "def func(x, a, b):\n",
    "    return a*x + b"
   ],
   "metadata": {
    "collapsed": false,
    "pycharm": {
     "name": "#%%\n"
    }
   }
  },
  {
   "cell_type": "code",
   "execution_count": 36,
   "outputs": [
    {
     "name": "stderr",
     "output_type": "stream",
     "text": [
      "<ipython-input-36-13d72b9235f2>:7: SettingWithCopyWarning: \n",
      "A value is trying to be set on a copy of a slice from a DataFrame\n",
      "\n",
      "See the caveats in the documentation: https://pandas.pydata.org/pandas-docs/stable/user_guide/indexing.html#returning-a-view-versus-a-copy\n",
      "  df_temp.rename(columns={col:Anode_V[col]}, inplace=True)\n",
      "<ipython-input-36-13d72b9235f2>:8: SettingWithCopyWarning: \n",
      "A value is trying to be set on a copy of a slice from a DataFrame.\n",
      "Try using .loc[row_indexer,col_indexer] = value instead\n",
      "\n",
      "See the caveats in the documentation: https://pandas.pydata.org/pandas-docs/stable/user_guide/indexing.html#returning-a-view-versus-a-copy\n",
      "  df_temp['y'] = df_temp.apply(lambda row: y_calc(row[Anode_V[col]], Anode_V[col]), axis=1)\n",
      "<ipython-input-36-13d72b9235f2>:9: SettingWithCopyWarning: \n",
      "A value is trying to be set on a copy of a slice from a DataFrame.\n",
      "Try using .loc[row_indexer,col_indexer] = value instead\n",
      "\n",
      "See the caveats in the documentation: https://pandas.pydata.org/pandas-docs/stable/user_guide/indexing.html#returning-a-view-versus-a-copy\n",
      "  df_temp['x'] = df_temp.apply(lambda row: x_calc(row['radius']), axis=1)\n",
      "<ipython-input-36-13d72b9235f2>:7: SettingWithCopyWarning: \n",
      "A value is trying to be set on a copy of a slice from a DataFrame\n",
      "\n",
      "See the caveats in the documentation: https://pandas.pydata.org/pandas-docs/stable/user_guide/indexing.html#returning-a-view-versus-a-copy\n",
      "  df_temp.rename(columns={col:Anode_V[col]}, inplace=True)\n",
      "<ipython-input-36-13d72b9235f2>:8: SettingWithCopyWarning: \n",
      "A value is trying to be set on a copy of a slice from a DataFrame.\n",
      "Try using .loc[row_indexer,col_indexer] = value instead\n",
      "\n",
      "See the caveats in the documentation: https://pandas.pydata.org/pandas-docs/stable/user_guide/indexing.html#returning-a-view-versus-a-copy\n",
      "  df_temp['y'] = df_temp.apply(lambda row: y_calc(row[Anode_V[col]], Anode_V[col]), axis=1)\n",
      "<ipython-input-36-13d72b9235f2>:9: SettingWithCopyWarning: \n",
      "A value is trying to be set on a copy of a slice from a DataFrame.\n",
      "Try using .loc[row_indexer,col_indexer] = value instead\n",
      "\n",
      "See the caveats in the documentation: https://pandas.pydata.org/pandas-docs/stable/user_guide/indexing.html#returning-a-view-versus-a-copy\n",
      "  df_temp['x'] = df_temp.apply(lambda row: x_calc(row['radius']), axis=1)\n",
      "<ipython-input-36-13d72b9235f2>:7: SettingWithCopyWarning: \n",
      "A value is trying to be set on a copy of a slice from a DataFrame\n",
      "\n",
      "See the caveats in the documentation: https://pandas.pydata.org/pandas-docs/stable/user_guide/indexing.html#returning-a-view-versus-a-copy\n",
      "  df_temp.rename(columns={col:Anode_V[col]}, inplace=True)\n",
      "<ipython-input-36-13d72b9235f2>:8: SettingWithCopyWarning: \n",
      "A value is trying to be set on a copy of a slice from a DataFrame.\n",
      "Try using .loc[row_indexer,col_indexer] = value instead\n",
      "\n",
      "See the caveats in the documentation: https://pandas.pydata.org/pandas-docs/stable/user_guide/indexing.html#returning-a-view-versus-a-copy\n",
      "  df_temp['y'] = df_temp.apply(lambda row: y_calc(row[Anode_V[col]], Anode_V[col]), axis=1)\n",
      "<ipython-input-36-13d72b9235f2>:9: SettingWithCopyWarning: \n",
      "A value is trying to be set on a copy of a slice from a DataFrame.\n",
      "Try using .loc[row_indexer,col_indexer] = value instead\n",
      "\n",
      "See the caveats in the documentation: https://pandas.pydata.org/pandas-docs/stable/user_guide/indexing.html#returning-a-view-versus-a-copy\n",
      "  df_temp['x'] = df_temp.apply(lambda row: x_calc(row['radius']), axis=1)\n",
      "<ipython-input-36-13d72b9235f2>:7: SettingWithCopyWarning: \n",
      "A value is trying to be set on a copy of a slice from a DataFrame\n",
      "\n",
      "See the caveats in the documentation: https://pandas.pydata.org/pandas-docs/stable/user_guide/indexing.html#returning-a-view-versus-a-copy\n",
      "  df_temp.rename(columns={col:Anode_V[col]}, inplace=True)\n",
      "<ipython-input-36-13d72b9235f2>:8: SettingWithCopyWarning: \n",
      "A value is trying to be set on a copy of a slice from a DataFrame.\n",
      "Try using .loc[row_indexer,col_indexer] = value instead\n",
      "\n",
      "See the caveats in the documentation: https://pandas.pydata.org/pandas-docs/stable/user_guide/indexing.html#returning-a-view-versus-a-copy\n",
      "  df_temp['y'] = df_temp.apply(lambda row: y_calc(row[Anode_V[col]], Anode_V[col]), axis=1)\n",
      "<ipython-input-36-13d72b9235f2>:9: SettingWithCopyWarning: \n",
      "A value is trying to be set on a copy of a slice from a DataFrame.\n",
      "Try using .loc[row_indexer,col_indexer] = value instead\n",
      "\n",
      "See the caveats in the documentation: https://pandas.pydata.org/pandas-docs/stable/user_guide/indexing.html#returning-a-view-versus-a-copy\n",
      "  df_temp['x'] = df_temp.apply(lambda row: x_calc(row['radius']), axis=1)\n",
      "<ipython-input-36-13d72b9235f2>:7: SettingWithCopyWarning: \n",
      "A value is trying to be set on a copy of a slice from a DataFrame\n",
      "\n",
      "See the caveats in the documentation: https://pandas.pydata.org/pandas-docs/stable/user_guide/indexing.html#returning-a-view-versus-a-copy\n",
      "  df_temp.rename(columns={col:Anode_V[col]}, inplace=True)\n",
      "<ipython-input-36-13d72b9235f2>:8: SettingWithCopyWarning: \n",
      "A value is trying to be set on a copy of a slice from a DataFrame.\n",
      "Try using .loc[row_indexer,col_indexer] = value instead\n",
      "\n",
      "See the caveats in the documentation: https://pandas.pydata.org/pandas-docs/stable/user_guide/indexing.html#returning-a-view-versus-a-copy\n",
      "  df_temp['y'] = df_temp.apply(lambda row: y_calc(row[Anode_V[col]], Anode_V[col]), axis=1)\n",
      "<ipython-input-36-13d72b9235f2>:9: SettingWithCopyWarning: \n",
      "A value is trying to be set on a copy of a slice from a DataFrame.\n",
      "Try using .loc[row_indexer,col_indexer] = value instead\n",
      "\n",
      "See the caveats in the documentation: https://pandas.pydata.org/pandas-docs/stable/user_guide/indexing.html#returning-a-view-versus-a-copy\n",
      "  df_temp['x'] = df_temp.apply(lambda row: x_calc(row['radius']), axis=1)\n",
      "<ipython-input-36-13d72b9235f2>:7: SettingWithCopyWarning: \n",
      "A value is trying to be set on a copy of a slice from a DataFrame\n",
      "\n",
      "See the caveats in the documentation: https://pandas.pydata.org/pandas-docs/stable/user_guide/indexing.html#returning-a-view-versus-a-copy\n",
      "  df_temp.rename(columns={col:Anode_V[col]}, inplace=True)\n",
      "<ipython-input-36-13d72b9235f2>:8: SettingWithCopyWarning: \n",
      "A value is trying to be set on a copy of a slice from a DataFrame.\n",
      "Try using .loc[row_indexer,col_indexer] = value instead\n",
      "\n",
      "See the caveats in the documentation: https://pandas.pydata.org/pandas-docs/stable/user_guide/indexing.html#returning-a-view-versus-a-copy\n",
      "  df_temp['y'] = df_temp.apply(lambda row: y_calc(row[Anode_V[col]], Anode_V[col]), axis=1)\n",
      "<ipython-input-36-13d72b9235f2>:9: SettingWithCopyWarning: \n",
      "A value is trying to be set on a copy of a slice from a DataFrame.\n",
      "Try using .loc[row_indexer,col_indexer] = value instead\n",
      "\n",
      "See the caveats in the documentation: https://pandas.pydata.org/pandas-docs/stable/user_guide/indexing.html#returning-a-view-versus-a-copy\n",
      "  df_temp['x'] = df_temp.apply(lambda row: x_calc(row['radius']), axis=1)\n",
      "<ipython-input-36-13d72b9235f2>:7: SettingWithCopyWarning: \n",
      "A value is trying to be set on a copy of a slice from a DataFrame\n",
      "\n",
      "See the caveats in the documentation: https://pandas.pydata.org/pandas-docs/stable/user_guide/indexing.html#returning-a-view-versus-a-copy\n",
      "  df_temp.rename(columns={col:Anode_V[col]}, inplace=True)\n",
      "<ipython-input-36-13d72b9235f2>:8: SettingWithCopyWarning: \n",
      "A value is trying to be set on a copy of a slice from a DataFrame.\n",
      "Try using .loc[row_indexer,col_indexer] = value instead\n",
      "\n",
      "See the caveats in the documentation: https://pandas.pydata.org/pandas-docs/stable/user_guide/indexing.html#returning-a-view-versus-a-copy\n",
      "  df_temp['y'] = df_temp.apply(lambda row: y_calc(row[Anode_V[col]], Anode_V[col]), axis=1)\n",
      "<ipython-input-36-13d72b9235f2>:9: SettingWithCopyWarning: \n",
      "A value is trying to be set on a copy of a slice from a DataFrame.\n",
      "Try using .loc[row_indexer,col_indexer] = value instead\n",
      "\n",
      "See the caveats in the documentation: https://pandas.pydata.org/pandas-docs/stable/user_guide/indexing.html#returning-a-view-versus-a-copy\n",
      "  df_temp['x'] = df_temp.apply(lambda row: x_calc(row['radius']), axis=1)\n"
     ]
    },
    {
     "data": {
      "text/plain": "<Figure size 432x288 with 1 Axes>",
      "image/png": "[encoded data removed]"
     },
     "metadata": {
      "needs_background": "light"
     },
     "output_type": "display_data"
    },
    {
     "name": "stdout",
     "output_type": "stream",
     "text": [
      "[-0.00660161603780473, -0.007906588642382101, -0.009645984223928691, -0.01142230386360595, -0.012764062150094667, -0.014047180814618258, -0.014391764214029837]\n",
      "-0.010968499992352032\n"
     ]
    }
   ],
   "source": [
    "# fit them all on the same graph\n",
    "slopes = []\n",
    "for col in df.columns:\n",
    "    if col != 'radius':\n",
    "        # print(col)\n",
    "        df_temp = df[['radius', col]]\n",
    "        df_temp.rename(columns={col:Anode_V[col]}, inplace=True)\n",
    "        df_temp['y'] = df_temp.apply(lambda row: y_calc(row[Anode_V[col]], Anode_V[col]), axis=1)\n",
    "        df_temp['x'] = df_temp.apply(lambda row: x_calc(row['radius']), axis=1)\n",
    "        popt, pcov = curve_fit(func, df_temp['x'], df_temp['y'])\n",
    "        # print(popt)\n",
    "        plt.plot(df_temp['x'], df_temp['y'], 'o')\n",
    "        plt.plot(df_temp['x'], func(df_temp['x'], *popt), 'r-')\n",
    "        #print slopes\n",
    "        slopes.append(popt[0])\n",
    "plt.title(\"I^2/V vs. 1/r^2\")\n",
    "plt.xlabel(\"1/r^2 (m^-2))\")\n",
    "plt.ylabel(\"I^2/V (A^2/V)\")\n",
    "plt.savefig(\"plot2.png\")\n",
    "plt.show()\n",
    "print(slopes)\n",
    "print(np.average(slopes))"
   ],
   "metadata": {
    "collapsed": false,
    "pycharm": {
     "name": "#%%\n"
    }
   }
  },
  {
   "cell_type": "code",
   "execution_count": 37,
   "outputs": [],
   "source": [
    "def m_e(slope, mean_rad, voltage, N, const):\n",
    "    y = const * (mean_rad**2) * (voltage)\n",
    "    y = y/N**2\n",
    "    m_e = slope/y\n",
    "    return m_e"
   ],
   "metadata": {
    "collapsed": false,
    "pycharm": {
     "name": "#%%\n"
    }
   }
  },
  {
   "cell_type": "code",
   "execution_count": 38,
   "outputs": [
    {
     "name": "stdout",
     "output_type": "stream",
     "text": [
      "-1.72e+11\n",
      "-1.79e+11\n",
      "-1.76e+11\n",
      "-1.74e+11\n",
      "-1.78e+11\n",
      "-1.82e+11\n",
      "-1.97e+11\n"
     ]
    }
   ],
   "source": [
    "#print in scientific notation\n",
    "cm_arr = []\n",
    "for idx, slope in enumerate(slopes):\n",
    "    answer = (1/m_e(slope, 0.33, Anode_V[idx], 72, 2.7e12))\n",
    "    cm_arr.append(answer)\n",
    "    print(f'{answer:.2e}')"
   ],
   "metadata": {
    "collapsed": false,
    "pycharm": {
     "name": "#%%\n"
    }
   }
  },
  {
   "cell_type": "code",
   "execution_count": 39,
   "outputs": [
    {
     "name": "stdout",
     "output_type": "stream",
     "text": [
      "average charge to mass ratio = -1.79695e+11\n"
     ]
    }
   ],
   "source": [
    "print(\"average charge to mass ratio = \" + f'{np.average(cm_arr):.5e}')"
   ],
   "metadata": {
    "collapsed": false,
    "pycharm": {
     "name": "#%%\n"
    }
   }
  }
 ],
 "metadata": {
  "kernelspec": {
   "display_name": "Python 3",
   "language": "python",
   "name": "python3"
  },
  "language_info": {
   "codemirror_mode": {
    "name": "ipython",
    "version": 2
   },
   "file_extension": ".py",
   "mimetype": "text/x-python",
   "name": "python",
   "nbconvert_exporter": "python",
   "pygments_lexer": "ipython2",
   "version": "2.7.6"
  }
 },
 "nbformat": 4,
 "nbformat_minor": 0
}