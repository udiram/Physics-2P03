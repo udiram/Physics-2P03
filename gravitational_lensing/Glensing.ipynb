{
 "cells": [
  {
   "cell_type": "code",
   "execution_count": 124,
   "metadata": {},
   "outputs": [],
   "source": [
    "import numpy as np                                # import packages and give them quick handles since they will be used often\n",
    "import matplotlib.pyplot as plt\n",
    "from scipy import optimize\n",
    "import pandas as pd\n",
    "import math\n",
    "%matplotlib inline\n"
   ]
  },
  {
   "cell_type": "code",
   "execution_count": 173,
   "metadata": {},
   "outputs": [
    {
     "name": "stdout",
     "output_type": "stream",
     "text": [
      "[0.01529, 0.016185, 0.016795, 0.14865, 1.1735]\n",
      "[[1.      0.477   0.173   0.03058]\n",
      " [2.      0.42    0.23    0.03237]\n",
      " [3.      0.36    0.29    0.03359]\n",
      " [4.      0.27    0.38    0.2973 ]\n",
      " [5.      0.2     0.45    2.347  ]]\n"
     ]
    }
   ],
   "source": [
    "# SETTING UP ARRAYS FOR DISTANCE PARAMETERS AND EINSTIEN RADIUS MEASUREMENTS\n",
    "\n",
    "Array = np.loadtxt('Lens 2 Data.txt', skiprows=1, delimiter=',')\n",
    "Trial1 = Array[0]\n",
    "Trial2 = Array[1]\n",
    "Trial3 = Array[2]\n",
    "Trial4 = Array[3]\n",
    "Trial5 = Array[4]\n",
    "\n",
    "DL = []\n",
    "DL.append(Trial1[1])\n",
    "DL.append(Trial2[1])\n",
    "DL.append(Trial3[1])\n",
    "DL.append(Trial4[1])\n",
    "DL.append(Trial5[1])\n",
    "\n",
    "DLS = []\n",
    "DLS.append(Trial1[2])\n",
    "DLS.append(Trial2[2])\n",
    "DLS.append(Trial3[2])\n",
    "DLS.append(Trial4[2])\n",
    "DLS.append(Trial5[2])\n",
    "\n",
    "ER = []\n",
    "ER.append(Trial1[3]/2)     # divide by 2 because in the text document we have the diameter measurements \n",
    "ER.append(Trial2[3]/2)\n",
    "ER.append(Trial3[3]/2)\n",
    "ER.append(Trial4[3]/2)\n",
    "ER.append(Trial5[3]/2)\n",
    "\n",
    "print(ER)\n",
    "\n",
    "print(Array)"
   ]
  },
  {
   "cell_type": "code",
   "execution_count": 166,
   "metadata": {},
   "outputs": [],
   "source": [
    "# DEFINING ERROR FUCNTIONS TO CALCULATE THE UNCERTAINTY IN THE EINSTIEN ANGLE \n",
    "\n",
    "DLS_error = DL_error = DS_error = 0.005\n",
    "ER_error = 0.000005\n",
    "\n",
    "def delF_delER(ER_error,DS,ER):\n",
    "    return 1/(1+((ER/DS)**2))*ER_error\n",
    "\n",
    "def delF_delDS(DS_error,DS,ER):\n",
    "    return (1/(1+(ER/DS)**2))*1/(DS**2)*DS_error"
   ]
  },
  {
   "cell_type": "code",
   "execution_count": 167,
   "metadata": {},
   "outputs": [
    {
     "name": "stdout",
     "output_type": "stream",
     "text": [
      "[0.02351873964788298, 0.024894855830526356, 0.02583271369700818, 0.22482604276248655, 1.0649648817831436]\n",
      "[0.011832772037961183, 0.01183198357848872, 0.011831420561523276, 0.011250895748360865, 0.002779565595675378]\n"
     ]
    }
   ],
   "source": [
    "# SOLVING FOR THE EINSTIEN ANGLE AND THE UNCERTAINTIES\n",
    "\n",
    "def angle_func(ER):\n",
    "    return math.atan(ER/0.65)\n",
    "\n",
    "EA = []\n",
    "for i in range(5):\n",
    "    EA.append(angle_func(ER[i]))\n",
    "    \n",
    "EA_error = []\n",
    "for i in range (5):\n",
    "    EA_error.append(delF_delER(ER_error,0.65,ER[i])+delF_delDS(DS_error,0.65,ER[i]))\n",
    "    \n",
    "print(EA)\n",
    "print(EA_error)"
   ]
  },
  {
   "cell_type": "code",
   "execution_count": 168,
   "metadata": {},
   "outputs": [],
   "source": [
    "# DEFINING FUNCTIONS FOR MASS UNCERTAINTY CALCULATIONS \n",
    "\n",
    "def delM_delEA(EA,DS,DL,DLS,G,c):\n",
    "    return 2*EA*(c**2/(4*G))*(DS*DL/DLS)\n",
    "\n",
    "def delM_delDS(EA,DS,DL,DLS,G,c):\n",
    "    return (EA**2)*(c**2/(4*G))*(DL/DLS)\n",
    "\n",
    "def delM_delDL(EA,DS,DL,DLS,G,c):   \n",
    "    return (EA**2)*(c**2/(4*G))*(DS/DLS)\n",
    "\n",
    "def delM_delDLS(EA,DS,DL,DLS,G,c):  \n",
    "    return (EA**2)*(c**2/(4*G))*(DS*DL/(DLS**2))"
   ]
  },
  {
   "cell_type": "code",
   "execution_count": 169,
   "metadata": {},
   "outputs": [
    {
     "name": "stdout",
     "output_type": "stream",
     "text": [
      "[3.344031854315026e+23, 2.4814796976131847e+23, 1.8164130152769183e+23, 7.874870871335339e+24, 1.1052438225343335e+26]\n",
      "[3.5223297521158675e+23, 2.461361610368503e+23, 1.734357454192773e+23, 1.0981827422706487e+24, 5.418284584917099e+24]\n"
     ]
    }
   ],
   "source": [
    "# CALCULATING THE MASS AND UNCERTAINTIES\n",
    "\n",
    "c = 3e8\n",
    "G = 6.67e-11\n",
    "\n",
    "def mass_func(c, G, EA, DL, DLS):\n",
    "    return (EA**2)*(c**2)*0.65*DL/(4*G*DLS)\n",
    "\n",
    "mass = []\n",
    "for i in range(5):\n",
    "    mass.append(mass_func(c, G, EA[i], DL[i], DLS[i]))\n",
    "    \n",
    "EA_differential = []\n",
    "DS_differential = []\n",
    "DL_differential = []\n",
    "DLS_differential = []\n",
    "mass_error = []\n",
    "\n",
    "for i in range(5):\n",
    "    EA_differential.append(delM_delEA(EA[i],0.65,DL[i],DLS[i],G,c))\n",
    "    DS_differential.append(delM_delDS(EA[i],0.65,DL[i],DLS[i],G,c))\n",
    "    DL_differential.append(delM_delDL(EA[i],0.65,DL[i],DLS[i],G,c))\n",
    "    DLS_differential.append(delM_delDLS(EA[i],0.65,DL[i],DLS[i],G,c))\n",
    "    mass_error.append(EA_differential[i]*EA_error[i]+DS_error*(DS_differential[i]+DL_differential[i]+DLS_differential[i]))\n",
    "    \n",
    "print(mass)\n",
    "print(mass_error)"
   ]
  },
  {
   "cell_type": "code",
   "execution_count": 170,
   "metadata": {},
   "outputs": [],
   "source": [
    "# DEFINING ERROR FUNCTIONS FOR DISTANCE PARAMETER\n",
    "\n",
    "def delD_delDLS(DLS,DL,DS):\n",
    "    return 1/(DL*DS)\n",
    "\n",
    "def delD_delDL(DLS,DL,DS):\n",
    "    return DLS*((DL**2)*DS)\n",
    "\n",
    "def delD_delDS(DLS,DL,DS):\n",
    "    return DLS*((DS**2)*DL)"
   ]
  },
  {
   "cell_type": "code",
   "execution_count": 171,
   "metadata": {},
   "outputs": [
    {
     "name": "stdout",
     "output_type": "stream",
     "text": [
      "[0.5579745202386711, 0.8424908424908425, 1.2393162393162394, 2.165242165242165, 3.4615384615384617]\n",
      "[0.016428685013520846, 0.018650944815018316, 0.02171021436752137, 0.02879680249002849, 0.03871016346153846]\n"
     ]
    }
   ],
   "source": [
    "# DISTANCE PARAMETER AND UNCERTAINTY CALCULATIONS \n",
    "# note: D = distance paramter: DLS/(DL*DS)\n",
    "\n",
    "D = []\n",
    "for i in range(5):\n",
    "    D.append(DLS[i]/(0.65*DL[i]))\n",
    "    \n",
    "D_error = []\n",
    "for i in range(5):\n",
    "    D_error.append(DS_error*(delD_delDLS(DLS[i],DL[i],0.65)+delD_delDL(DLS[i],DL[i],0.65)+delD_delDS(DLS[i],DL[i],0.65)))\n",
    "    \n",
    "print(D)\n",
    "print(D_error)"
   ]
  },
  {
   "cell_type": "code",
   "execution_count": 172,
   "metadata": {},
   "outputs": [
    {
     "name": "stdout",
     "output_type": "stream",
     "text": [
      "offset: 3.0226870295819293e+24 +- 5.216750794613766e+24\n",
      "offset: -2.7750541051507904e+24 +- 5.680983714866228e+24\n"
     ]
    },
    {
     "data": {
      "image/png": "[encoded data removed]",
      "text/plain": [
       "<Figure size 432x288 with 1 Axes>"
      ]
     },
     "metadata": {
      "needs_background": "light"
     },
     "output_type": "display_data"
    },
    {
     "data": {
      "text/plain": [
       "<Figure size 432x288 with 0 Axes>"
      ]
     },
     "metadata": {},
     "output_type": "display_data"
    }
   ],
   "source": [
    "plt.plot(D, mass)\n",
    "plt.errorbar(D, mass, mass_error, D_error, fmt='k.')      \n",
    "\n",
    "def func(x,m,b):                                 \n",
    "    return m*x+b                                \n",
    " \n",
    "initialguess = [1e24,-1e23]                     \n",
    "                                        \n",
    "fit, covariance = optimize.curve_fit(            \n",
    "        func,                                    \n",
    "        D,                                  \n",
    "        mass,\n",
    "        initialguess,\n",
    "        mass_error)   \n",
    "\n",
    "print(\"offset:\",fit[0],\"+-\",np.sqrt(covariance[0][0]))    \n",
    "print(\"offset:\",fit[1],\"+-\",np.sqrt(covariance[1][1])) \n",
    "\n",
    "Dfit=np.linspace(min(D), max(D), 100) \n",
    "func_plot=func(Dfit,*fit)    \n",
    "\n",
    "plt.plot(Dfit, func_plot) \n",
    "\n",
    "plt.title('Distance Parameter DLS/(DL*DS) vs Mass')\n",
    "plt.xlabel('Distance Parameter (m^-1)',fontsize = 18)\n",
    "plt.ylabel('Mass (1e23 kg)',fontsize = 18)\n",
    "\n",
    "plt.show()\n",
    "plt.savefig(\"./\",dpi=300)         \n",
    "plt.clf()"
   ]
  }
 ],
 "metadata": {
  "kernelspec": {
   "display_name": "Python 3",
   "language": "python",
   "name": "python3"
  },
  "language_info": {
   "codemirror_mode": {
    "name": "ipython",
    "version": 3
   },
   "file_extension": ".py",
   "mimetype": "text/x-python",
   "name": "python",
   "nbconvert_exporter": "python",
   "pygments_lexer": "ipython3",
   "version": "3.6.8"
  }
 },
 "nbformat": 4,
 "nbformat_minor": 2
}
