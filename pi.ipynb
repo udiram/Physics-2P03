{
 "cells": [
  {
   "cell_type": "code",
   "execution_count": 40,
   "outputs": [
    {
     "name": "stdout",
     "output_type": "stream",
     "text": [
      "3.466666666666667\n"
     ]
    }
   ],
   "source": [
    "i = 0\n",
    "last_term = 0.58\n",
    "numerator = 4\n",
    "denominator = 1\n",
    "sum = 0\n",
    "sign = 1\n",
    "fraction = 1000000\n",
    "sum_array = []\n",
    "while fraction > last_term :\n",
    "    # print(i)\n",
    "    if i % 2 == 0:\n",
    "        sign = 1\n",
    "    else:\n",
    "        sign = -1\n",
    "    fraction = numerator/denominator\n",
    "    # print(\"frac: \" + str(fraction))\n",
    "\n",
    "    sum += sign * fraction\n",
    "    sum_array.append(sum)\n",
    "    # print(\"sum: \" + str(sum))\n",
    "    # print(sum_array)\n",
    "    # print(\"num: \"+ str(numerator))\n",
    "    denominator += 2\n",
    "    i+=1\n",
    "    # print(\"den: \" + str(denominator))\n",
    "print(sum_array[i-2])"
   ],
   "metadata": {
    "collapsed": false,
    "pycharm": {
     "name": "#%%\n"
    }
   }
  },
  {
   "cell_type": "code",
   "execution_count": null,
   "outputs": [],
   "source": [],
   "metadata": {
    "collapsed": false,
    "pycharm": {
     "name": "#%%\n"
    }
   }
  }
 ],
 "metadata": {
  "kernelspec": {
   "display_name": "Python 3",
   "language": "python",
   "name": "python3"
  },
  "language_info": {
   "codemirror_mode": {
    "name": "ipython",
    "version": 2
   },
   "file_extension": ".py",
   "mimetype": "text/x-python",
   "name": "python",
   "nbconvert_exporter": "python",
   "pygments_lexer": "ipython2",
   "version": "2.7.6"
  }
 },
 "nbformat": 4,
 "nbformat_minor": 0
}